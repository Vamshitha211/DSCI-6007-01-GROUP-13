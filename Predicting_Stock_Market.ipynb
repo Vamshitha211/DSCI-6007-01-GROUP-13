{
  "nbformat": 4,
  "nbformat_minor": 0,
  "metadata": {
    "colab": {
      "private_outputs": true,
      "provenance": []
    },
    "kernelspec": {
      "name": "python3",
      "display_name": "Python 3"
    },
    "language_info": {
      "name": "python"
    }
  },
  "cells": [
    {
      "cell_type": "code",
      "source": [
        "!pip install hmmlearn\n",
        "\n",
        "!pip install pandas-DataReader"
      ],
      "metadata": {
        "id": "gfrSRijQ9Oor"
      },
      "execution_count": null,
      "outputs": []
    },
    {
      "cell_type": "code",
      "source": [
        "!pip install yfinance"
      ],
      "metadata": {
        "id": "Hl-kVc_P9kDR"
      },
      "execution_count": null,
      "outputs": []
    },
    {
      "cell_type": "code",
      "source": [
        "!pip install pandas numpy matplotlib seaborn yfinance pandas_datareader"
      ],
      "metadata": {
        "id": "vMhUCFmqyZV7"
      },
      "execution_count": null,
      "outputs": []
    },
    {
      "cell_type": "code",
      "source": [
        "import pandas as pd\n",
        "import numpy as np\n",
        "import matplotlib.pyplot as plt\n",
        "import seaborn as sns\n",
        "sns.set_style('whitegrid')\n",
        "plt.style.use(\"fivethirtyeight\")\n",
        "%matplotlib inline\n",
        "\n",
        "# For reading stock data from yahoo\n",
        "from pandas_datareader.data import DataReader\n",
        "import yfinance as yf\n",
        "from pandas_datareader import data as pdr\n",
        "\n",
        "yf.pdr_override()\n",
        "\n",
        "# For time stamps\n",
        "from datetime import datetime\n",
        "\n",
        "\n",
        "# The tech stocks we'll use for this analysis\n",
        "tech_list = ['AAPL', 'GOOG', 'MSFT', 'AMZN', 'NVDA', 'ADBE', 'CRM', 'ACN', 'CSCO', 'MA']\n",
        "\n",
        "end = datetime.now()\n",
        "\n",
        "# Accept user input for start date\n",
        "start_input = input(\"Enter the start date (YYYY-MM-DD): \")\n",
        "start = datetime.strptime(start_input, \"%Y-%m-%d\")\n",
        "\n",
        "# Accept user input for end date\n",
        "end_input = input(\"Enter the end date (YYYY-MM-DD): \")\n",
        "end = datetime.strptime(end_input, \"%Y-%m-%d\")\n",
        "\n",
        "# Accept user input for company name\n",
        "company_name = input(\"Enter the company name from the following list: APPLE, GOOGLE, MICROSOFT, AMAZON, NVIDIA, ADOBE, SALESFORCE, ACCENTURE, CISCO, MASTERCARD: \")\n",
        "\n",
        "# Validate user input for company name\n",
        "while company_name not in ['APPLE', 'GOOGLE', 'MICROSOFT', 'AMAZON', 'NVIDIA', 'ADOBE', 'SALESFORCE', 'ACCENTURE', 'CISCO', 'MASTERCARD']:\n",
        "    print(\"Invalid company name. Please choose from the following list: APPLE, GOOGLE, MICROSOFT, AMAZON, NVIDIA, ADOBE, SALESFORCE, ACCENTURE, CISCO, MASTERCARD\")\n",
        "    company_name = input(\"Enter the company name: \")\n",
        "\n",
        "# Set up End and Start times for data grab\n",
        "for stock in tech_list:\n",
        "    globals()[stock] = yf.download(stock, start, end)\n",
        "\n",
        "company_list = [AAPL, GOOG, MSFT, AMZN, NVDA, ADBE, CRM, ACN, CSCO, MA]\n",
        "company_names = [\"APPLE\", \"GOOGLE\", \"MICROSOFT\", \"AMAZON\", \"NVIDIA\", \"ADOBE\", \"SALESFORCE\", \"ACCENTURE\", \"CISCO\",\n",
        "                 \"MASTERCARD\"]\n",
        "\n",
        "for company, com_name in zip(company_list, company_names):\n",
        "    company[\"company_name\"] = com_name\n",
        "\n",
        "# Filter the DataFrame based on the selected company name\n",
        "selected_company_df = pd.concat(company_list, axis=0)\n",
        "selected_company_df = selected_company_df[selected_company_df['company_name'] == company_name]\n",
        "\n",
        "selected_company_df.tail(10)"
      ],
      "metadata": {
        "id": "2afIYwPrzbW3"
      },
      "execution_count": null,
      "outputs": []
    },
    {
      "cell_type": "code",
      "source": [
        "selected_company_df.describe()"
      ],
      "metadata": {
        "id": "dseOuh0LOLZc"
      },
      "execution_count": null,
      "outputs": []
    },
    {
      "cell_type": "code",
      "source": [
        "selected_company_df.info()"
      ],
      "metadata": {
        "id": "RnWjLRmD97uQ"
      },
      "execution_count": null,
      "outputs": []
    },
    {
      "cell_type": "code",
      "source": [
        "# Calculate daily returns\n",
        "selected_company_df['Daily_Return'] = selected_company_df['Close'].pct_change()\n",
        "\n",
        "# Plot the daily return on average\n",
        "plt.figure(figsize=(12, 6))\n",
        "sns.lineplot(x=selected_company_df.index, y=selected_company_df['Daily_Return'])\n",
        "plt.title('Daily Return of {} Stock on Average'.format(company_name))\n",
        "plt.xlabel('Date')\n",
        "plt.ylabel('Daily Return')\n",
        "plt.show()"
      ],
      "metadata": {
        "id": "076X0tK6GZvh"
      },
      "execution_count": null,
      "outputs": []
    },
    {
      "cell_type": "code",
      "source": [
        "# Calculate daily returns\n",
        "selected_company_df['Daily_Return'] = selected_company_df['Close'].pct_change()\n",
        "\n",
        "# Plot the daily return on average\n",
        "plt.figure(figsize=(12, 6))\n",
        "sns.lineplot(x=selected_company_df.index, y=selected_company_df['Daily_Return'])\n",
        "plt.title('Daily Return of {} Stock on Average'.format(company_name))\n",
        "plt.xlabel('Date')\n",
        "plt.ylabel('Daily Return')\n",
        "plt.show()"
      ],
      "metadata": {
        "id": "Qj85PLPzIOgr"
      },
      "execution_count": null,
      "outputs": []
    },
    {
      "cell_type": "code",
      "source": [
        "# Plot the closing price\n",
        "plt.figure(figsize=(12, 6))\n",
        "sns.lineplot(x=selected_company_df.index, y=selected_company_df['Close'])\n",
        "plt.title('Closing Price of {} from {} to {}'.format(company_name, start.strftime(\"%Y-%m-%d\"), end.strftime(\"%Y-%m-%d\")))\n",
        "plt.xlabel('Date')\n",
        "plt.ylabel('Closing Price')\n",
        "plt.show()"
      ],
      "metadata": {
        "id": "APsMHpl2Gq2A"
      },
      "execution_count": null,
      "outputs": []
    },
    {
      "cell_type": "code",
      "source": [
        "plt.figure(figsize=(12, 6))\n",
        "sns.lineplot(x=selected_company_df.index, y=selected_company_df['Volume'])\n",
        "plt.title(f'Total Volume of Stock Trade for {company_name}')\n",
        "plt.xlabel('Date')\n",
        "plt.ylabel('Volume')\n",
        "plt.show()\n"
      ],
      "metadata": {
        "id": "tqFTIdruG8W3"
      },
      "execution_count": null,
      "outputs": []
    },
    {
      "cell_type": "code",
      "source": [
        "ma_day = [10, 20, 50]\n",
        "\n",
        "for ma in ma_day:\n",
        "    for company in company_list:\n",
        "        column_name = f\"MA for {ma} days\"\n",
        "        company[column_name] = company['Adj Close'].rolling(ma).mean()\n",
        "\n",
        "\n",
        "fig, axes = plt.subplots(nrows=5, ncols=2)\n",
        "fig.set_figheight(20)\n",
        "fig.set_figwidth(30)\n",
        "\n",
        "AAPL[['Adj Close', 'MA for 10 days', 'MA for 20 days', 'MA for 50 days']].plot(ax=axes[0,0])\n",
        "axes[0,0].set_title('APPLE')\n",
        "\n",
        "GOOG[['Adj Close', 'MA for 10 days', 'MA for 20 days', 'MA for 50 days']].plot(ax=axes[0,1])\n",
        "axes[0,1].set_title('GOOGLE')\n",
        "\n",
        "MSFT[['Adj Close', 'MA for 10 days', 'MA for 20 days', 'MA for 50 days']].plot(ax=axes[1,0])\n",
        "axes[1,0].set_title('MICROSOFT')\n",
        "\n",
        "AMZN[['Adj Close', 'MA for 10 days', 'MA for 20 days', 'MA for 50 days']].plot(ax=axes[1,1])\n",
        "axes[1,1].set_title('AMAZON')\n",
        "\n",
        "NVDA[['Adj Close', 'MA for 10 days', 'MA for 20 days', 'MA for 50 days']].plot(ax=axes[2,0])\n",
        "axes[2,0].set_title('NVIDIA')\n",
        "\n",
        "ADBE[['Adj Close', 'MA for 10 days', 'MA for 20 days', 'MA for 50 days']].plot(ax=axes[2,1])\n",
        "axes[2,1].set_title('ADOBE')\n",
        "\n",
        "CRM[['Adj Close', 'MA for 10 days', 'MA for 20 days', 'MA for 50 days']].plot(ax=axes[3,0])\n",
        "axes[3,0].set_title('SALESFORCE')\n",
        "\n",
        "ACN[['Adj Close', 'MA for 10 days', 'MA for 20 days', 'MA for 50 days']].plot(ax=axes[3,1])\n",
        "axes[3,1].set_title('ACCENTURE')\n",
        "\n",
        "CSCO[['Adj Close', 'MA for 10 days', 'MA for 20 days', 'MA for 50 days']].plot(ax=axes[4,0])\n",
        "axes[4,0].set_title('CISCO')\n",
        "\n",
        "MA[['Adj Close', 'MA for 10 days', 'MA for 20 days', 'MA for 50 days']].plot(ax=axes[4,1])\n",
        "axes[4,1].set_title('MASTERCARD')\n",
        "\n",
        "fig.tight_layout()"
      ],
      "metadata": {
        "id": "_UlNIQlajfQW"
      },
      "execution_count": null,
      "outputs": []
    },
    {
      "cell_type": "code",
      "source": [
        "# Calculate daily returns\n",
        "selected_company_df['Daily_Return'] = selected_company_df['Close'].pct_change()\n",
        "\n",
        "# Plot the daily return on average\n",
        "plt.figure(figsize=(12, 6))\n",
        "sns.lineplot(x=selected_company_df.index, y=selected_company_df['Daily_Return'])\n",
        "plt.title(f'Total Volume of Stock Trade for {company_name}')\n",
        "\n",
        "plt.xlabel('Date')\n",
        "plt.ylabel('Daily Return')\n",
        "plt.show()"
      ],
      "metadata": {
        "id": "nBsGeOiU-KnQ"
      },
      "execution_count": null,
      "outputs": []
    },
    {
      "cell_type": "code",
      "source": [
        "# Plot histogram for average daily return\n",
        "plt.figure(figsize=(10, 6))\n",
        "sns.histplot(selected_company_df['Adj Close'].pct_change().dropna(), bins=30, kde=True)\n",
        "plt.title(f'Total Volume of Stock Trade for {company_name}')\n",
        "plt.xlabel('Average Daily Return')\n",
        "plt.ylabel('Frequency')\n",
        "plt.show()\n"
      ],
      "metadata": {
        "id": "rg3FNtGR-NFJ"
      },
      "execution_count": null,
      "outputs": []
    },
    {
      "cell_type": "markdown",
      "source": [
        "# Predictaion"
      ],
      "metadata": {
        "id": "wzSiqopMxW46"
      }
    },
    {
      "cell_type": "code",
      "source": [
        "# Get the stock quote\n",
        "df = selected_company_df\n",
        "# Show teh data\n",
        "df"
      ],
      "metadata": {
        "id": "EuV9o8WTxFrp"
      },
      "execution_count": null,
      "outputs": []
    },
    {
      "cell_type": "code",
      "source": [
        "plt.figure(figsize=(16,6))\n",
        "plt.title('Close Price History')\n",
        "plt.plot(df['Close'])\n",
        "plt.xlabel('Date', fontsize=18)\n",
        "plt.ylabel('Close Price USD ($)', fontsize=18)\n",
        "plt.show()"
      ],
      "metadata": {
        "id": "mwTPHytMyjAg"
      },
      "execution_count": null,
      "outputs": []
    },
    {
      "cell_type": "code",
      "source": [
        "# Create a new dataframe with only the 'Close column\n",
        "data = df.filter(['Close'])\n",
        "# Convert the dataframe to a numpy array\n",
        "dataset = data.values\n",
        "# Get the number of rows to train the model on\n",
        "training_data_len = int(np.ceil( len(dataset) * .95 ))\n",
        "\n",
        "training_data_len"
      ],
      "metadata": {
        "id": "7xiX1h4myoge"
      },
      "execution_count": null,
      "outputs": []
    },
    {
      "cell_type": "code",
      "source": [
        "# Scale the data\n",
        "from sklearn.preprocessing import MinMaxScaler\n",
        "\n",
        "scaler = MinMaxScaler(feature_range=(0,1))\n",
        "scaled_data = scaler.fit_transform(dataset)\n",
        "\n",
        "scaled_data"
      ],
      "metadata": {
        "id": "RiYrbz8wyxfm"
      },
      "execution_count": null,
      "outputs": []
    },
    {
      "cell_type": "code",
      "source": [
        "# Create the training data set\n",
        "# Create the scaled training data set\n",
        "train_data = scaled_data[0:int(training_data_len), :]\n",
        "# Split the data into x_train and y_train data sets\n",
        "x_train = []\n",
        "y_train = []\n",
        "\n",
        "for i in range(60, len(train_data)):\n",
        "    x_train.append(train_data[i-60:i, 0])\n",
        "    y_train.append(train_data[i, 0])\n",
        "    if i<= 61:\n",
        "        print(x_train)\n",
        "        print(y_train)\n",
        "        print()\n",
        "\n",
        "# Convert the x_train and y_train to numpy arrays\n",
        "x_train, y_train = np.array(x_train), np.array(y_train)\n",
        "\n",
        "# Reshape the data\n",
        "x_train = np.reshape(x_train, (x_train.shape[0], x_train.shape[1], 1))\n",
        "# x_train.shape"
      ],
      "metadata": {
        "id": "xW6x9FB3y1Rl"
      },
      "execution_count": null,
      "outputs": []
    },
    {
      "cell_type": "code",
      "source": [
        "from keras.models import Sequential\n",
        "from keras.layers import Dense, LSTM\n",
        "\n",
        "# Build the LSTM model\n",
        "model = Sequential()\n",
        "model.add(LSTM(128, return_sequences=True, input_shape= (x_train.shape[1], 1)))\n",
        "model.add(LSTM(64, return_sequences=False))\n",
        "model.add(Dense(25))\n",
        "model.add(Dense(1))\n",
        "\n",
        "# Compile the model\n",
        "model.compile(optimizer='adam', loss='mean_squared_error')\n",
        "\n",
        "# Train the model\n",
        "model.fit(x_train, y_train, batch_size=1, epochs=1)"
      ],
      "metadata": {
        "id": "TqS3ml5ey421"
      },
      "execution_count": null,
      "outputs": []
    },
    {
      "cell_type": "code",
      "source": [
        "# Create the testing data set\n",
        "# Create a new array containing scaled values from index 1543 to 2002\n",
        "test_data = scaled_data[training_data_len - 60: , :]\n",
        "# Create the data sets x_test and y_test\n",
        "x_test = []\n",
        "y_test = dataset[training_data_len:, :]\n",
        "for i in range(60, len(test_data)):\n",
        "    x_test.append(test_data[i-60:i, 0])\n",
        "\n",
        "# Convert the data to a numpy array\n",
        "x_test = np.array(x_test)\n",
        "\n",
        "# Reshape the data\n",
        "x_test = np.reshape(x_test, (x_test.shape[0], x_test.shape[1], 1 ))\n",
        "\n",
        "# Get the models predicted price values\n",
        "predictions = model.predict(x_test)\n",
        "predictions = scaler.inverse_transform(predictions)\n",
        "\n",
        "# Get the root mean squared error (RMSE)\n",
        "rmse = np.sqrt(np.mean(((predictions - y_test) ** 2)))\n",
        "rmse"
      ],
      "metadata": {
        "id": "QSo-YYeNz4Lm"
      },
      "execution_count": null,
      "outputs": []
    },
    {
      "cell_type": "code",
      "source": [
        "# Plot the data\n",
        "train = data[:training_data_len]\n",
        "valid = data[training_data_len:]\n",
        "valid['Predictions'] = predictions\n",
        "# Visualize the data\n",
        "plt.figure(figsize=(16,6))\n",
        "plt.title('Model')\n",
        "plt.xlabel('Date', fontsize=18)\n",
        "plt.ylabel('Close Price USD ($)', fontsize=18)\n",
        "plt.plot(train['Close'])\n",
        "plt.plot(valid[['Close', 'Predictions']])\n",
        "plt.legend(['Train', 'Val', 'Predictions'], loc='lower right')\n",
        "plt.show()"
      ],
      "metadata": {
        "id": "_RLntorPz8g8"
      },
      "execution_count": null,
      "outputs": []
    },
    {
      "cell_type": "code",
      "source": [
        "# Show the valid and predicted prices\n",
        "valid"
      ],
      "metadata": {
        "id": "ujm5Oq9vz_KM"
      },
      "execution_count": null,
      "outputs": []
    }
  ]
}
